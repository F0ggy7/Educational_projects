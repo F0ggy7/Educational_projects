{
 "cells": [
  {
   "cell_type": "code",
   "execution_count": 18,
   "metadata": {},
   "outputs": [
    {
     "name": "stderr",
     "output_type": "stream",
     "text": [
      "[nltk_data] Downloading package stopwords to\n",
      "[nltk_data]     C:\\Users\\xxlen\\AppData\\Roaming\\nltk_data...\n",
      "[nltk_data]   Package stopwords is already up-to-date!\n"
     ]
    },
    {
     "data": {
      "text/plain": [
       "True"
      ]
     },
     "execution_count": 18,
     "metadata": {},
     "output_type": "execute_result"
    }
   ],
   "source": [
    "import nltk, collections\n",
    "import string\n",
    "\n",
    "from nltk.corpus import stopwords\n",
    "from nltk.collocations import *\n",
    "from nltk.tokenize import word_tokenize\n",
    "from nltk.probability import FreqDist\n",
    "\n",
    "nltk.download('stopwords')"
   ]
  },
  {
   "cell_type": "code",
   "execution_count": 19,
   "metadata": {},
   "outputs": [],
   "source": [
    "# Читаем книгу и записываем ее в переменную\n",
    "with open('The_Little_Prince.txt') as book:\n",
    "    read_book = book.read()"
   ]
  },
  {
   "cell_type": "code",
   "execution_count": 20,
   "metadata": {},
   "outputs": [
    {
     "data": {
      "text/plain": [
       "21186"
      ]
     },
     "execution_count": 20,
     "metadata": {},
     "output_type": "execute_result"
    }
   ],
   "source": [
    "# Токинизируем текс\n",
    "word_tokens = word_tokenize(read_book)\n",
    "len(word_tokens)"
   ]
  },
  {
   "cell_type": "code",
   "execution_count": 21,
   "metadata": {},
   "outputs": [],
   "source": [
    "# Удаляю знаки препинания и перевожу все слова в нижний регистр\n",
    "remove_punctuation = str.maketrans('', '', string.punctuation)\n",
    "lower_text = [x for x in [t.translate(remove_punctuation).lower() for t in word_tokens] if len(x) > 0]"
   ]
  },
  {
   "cell_type": "markdown",
   "metadata": {},
   "source": [
    "# Без Удаления стоп слов"
   ]
  },
  {
   "cell_type": "code",
   "execution_count": 22,
   "metadata": {},
   "outputs": [
    {
     "name": "stdout",
     "output_type": "stream",
     "text": [
      "Лексическое разнообразие текста составляет 12.517539756782039 %\n"
     ]
    }
   ],
   "source": [
    "# Лексическое разнообразие\n",
    "lexical_diversity = (len(set(lower_text)) / len(lower_text)) * 100\n",
    "print(\"Лексическое разнообразие текста составляет\", lexical_diversity, \"%\")"
   ]
  },
  {
   "cell_type": "code",
   "execution_count": 23,
   "metadata": {},
   "outputs": [
    {
     "name": "stdout",
     "output_type": "stream",
     "text": [
      "Самое частое по частоте использования слово  the\n",
      "Самое редкое по частоте использования слово word\n",
      "Меианное по частоте использования indulgence\n"
     ]
    }
   ],
   "source": [
    "# 2. Определить самое частое, самое редкое и медианное по частоте использования слово\n",
    "\n",
    "# FreqDist Упорядочит слова по убыванию частоты использования\n",
    "fdist = FreqDist(lower_text) \n",
    "\n",
    "data = []\n",
    "\n",
    "# Заношу слова в список для обращения к ним.\n",
    "for word in fdist:\n",
    "    data.append(word)\n",
    "\n",
    "most_frequent = data[0] \n",
    "the_rarest = data[len(data)-1]\n",
    "# Медианно значение в этом случае будет середина списка.\n",
    "median = data[len(data) // 2] \n",
    "\n",
    "print (\"Самое частое по частоте использования слово \", most_frequent)\n",
    "print (\"Самое редкое по частоте использования слово\", the_rarest)\n",
    "print (\"Меианное по частоте использования\", median)"
   ]
  },
  {
   "cell_type": "code",
   "execution_count": 24,
   "metadata": {},
   "outputs": [],
   "source": [
    "# 3. Определить самое часто используемое существительное, прилагательное и глагол\n",
    "nouns = []\n",
    "verbs = []\n",
    "adjectives = []\n",
    "\n",
    "# Определяю к какому типу относится слово\n",
    "text =  nltk.pos_tag(lower_text)\n",
    "\n",
    "# Разбиваю слова на списки по частям речи \n",
    "for word in text:\n",
    "    if 'NN' == word[1]:\n",
    "        nouns.append(word[0])\n",
    "    if 'VB' == word[1]:\n",
    "        verbs.append(word[0])\n",
    "    if 'JJ' == word[1]:\n",
    "        adjectives.append(word[0])"
   ]
  },
  {
   "cell_type": "code",
   "execution_count": 25,
   "metadata": {},
   "outputs": [
    {
     "name": "stdout",
     "output_type": "stream",
     "text": [
      "Cамое часто используемое существительное i\n",
      "Cамое часто используемое прилагательное little\n",
      "Cамое часто используемый глагол be\n"
     ]
    }
   ],
   "source": [
    "# Упорядочим слова по убыванию частоты использования\n",
    "NN = FreqDist(nouns)\n",
    "VB = FreqDist(verbs)\n",
    "JJ = FreqDist(adjectives)\n",
    "\n",
    "print(\"Cамое часто используемое существительное\", NN.max())\n",
    "print(\"Cамое часто используемое прилагательное\", JJ.max())\n",
    "print(\"Cамое часто используемый глагол\", VB.max())"
   ]
  },
  {
   "cell_type": "code",
   "execution_count": 26,
   "metadata": {},
   "outputs": [
    {
     "data": {
      "image/png": "[encoded data removed]",
      "text/plain": [
       "<Figure size 640x480 with 1 Axes>"
      ]
     },
     "metadata": {},
     "output_type": "display_data"
    }
   ],
   "source": [
    "#4. Вывести график дисперсии слов из п. 2 и 3\n",
    "text = nltk.Text(lower_text)\n",
    "text.dispersion_plot([VB.max(), JJ.max(), NN.max(), median, the_rarest, most_frequent])"
   ]
  },
  {
   "cell_type": "markdown",
   "metadata": {},
   "source": [
    "# Все тоже самое только с удалением стоп слов"
   ]
  },
  {
   "cell_type": "code",
   "execution_count": 27,
   "metadata": {},
   "outputs": [
    {
     "name": "stdout",
     "output_type": "stream",
     "text": [
      "['i', 'me', 'my', 'myself', 'we', 'our', 'ours', 'ourselves', 'you', \"you're\", \"you've\", \"you'll\", \"you'd\", 'your', 'yours', 'yourself', 'yourselves', 'he', 'him', 'his', 'himself', 'she', \"she's\", 'her', 'hers', 'herself', 'it', \"it's\", 'its', 'itself', 'they', 'them', 'their', 'theirs', 'themselves', 'what', 'which', 'who', 'whom', 'this', 'that', \"that'll\", 'these', 'those', 'am', 'is', 'are', 'was', 'were', 'be', 'been', 'being', 'have', 'has', 'had', 'having', 'do', 'does', 'did', 'doing', 'a', 'an', 'the', 'and', 'but', 'if', 'or', 'because', 'as', 'until', 'while', 'of', 'at', 'by', 'for', 'with', 'about', 'against', 'between', 'into', 'through', 'during', 'before', 'after', 'above', 'below', 'to', 'from', 'up', 'down', 'in', 'out', 'on', 'off', 'over', 'under', 'again', 'further', 'then', 'once', 'here', 'there', 'when', 'where', 'why', 'how', 'all', 'any', 'both', 'each', 'few', 'more', 'most', 'other', 'some', 'such', 'no', 'nor', 'not', 'only', 'own', 'same', 'so', 'than', 'too', 'very', 's', 't', 'can', 'will', 'just', 'don', \"don't\", 'should', \"should've\", 'now', 'd', 'll', 'm', 'o', 're', 've', 'y', 'ain', 'aren', \"aren't\", 'couldn', \"couldn't\", 'didn', \"didn't\", 'doesn', \"doesn't\", 'hadn', \"hadn't\", 'hasn', \"hasn't\", 'haven', \"haven't\", 'isn', \"isn't\", 'ma', 'mightn', \"mightn't\", 'mustn', \"mustn't\", 'needn', \"needn't\", 'shan', \"shan't\", 'shouldn', \"shouldn't\", 'wasn', \"wasn't\", 'weren', \"weren't\", 'won', \"won't\", 'wouldn', \"wouldn't\", 'пїѕ']\n"
     ]
    }
   ],
   "source": [
    "# В тексте часто встречается символ � и машиной он читается как 'пїѕ'. Я рещил его добавить в список стоп слов.\n",
    "all_stopwords = stopwords.words('english')\n",
    "all_stopwords.append('пїѕ')\n",
    "print(all_stopwords)"
   ]
  },
  {
   "cell_type": "code",
   "execution_count": 28,
   "metadata": {},
   "outputs": [
    {
     "data": {
      "text/plain": [
       "7354"
      ]
     },
     "execution_count": 28,
     "metadata": {},
     "output_type": "execute_result"
    }
   ],
   "source": [
    "# Удаляю стоп слова\n",
    "tokens_without_stop_w = [word for word in lower_text if not word in all_stopwords]\n",
    "len(tokens_without_stop_w)"
   ]
  },
  {
   "cell_type": "code",
   "execution_count": 29,
   "metadata": {},
   "outputs": [
    {
     "name": "stdout",
     "output_type": "stream",
     "text": [
      "Лексическое разнообразие текста составляет 27.454446559695405 %\n"
     ]
    }
   ],
   "source": [
    "# Лексическое разнообразие\n",
    "lexical_diversity = (len(set(tokens_without_stop_w )) / len(tokens_without_stop_w)) * 100\n",
    "print(\"Лексическое разнообразие текста составляет\", lexical_diversity, \"%\")"
   ]
  },
  {
   "cell_type": "code",
   "execution_count": 30,
   "metadata": {},
   "outputs": [
    {
     "name": "stdout",
     "output_type": "stream",
     "text": [
      "Самое частое по частоте использования слово  little\n",
      "Самое редкое по частоте использования слово word\n",
      "Меианное по частоте использования attempt\n"
     ]
    }
   ],
   "source": [
    "# 2. Определить самое частое, самое редкое и медианное по частоте использования слово\n",
    "\n",
    "# FreqDist Упорядочит слова по убыванию частоты использования\n",
    "fdist = FreqDist(tokens_without_stop_w) \n",
    "\n",
    "data = []\n",
    "\n",
    "# Заношу слова в список для обращения к ним.\n",
    "for word in fdist:\n",
    "    data.append(word)\n",
    "\n",
    "most_frequent = data[0] \n",
    "the_rarest = data[len(data)-1]\n",
    "# Медианно значение в этом случае будет середина списка.\n",
    "median = data[len(data) // 2] \n",
    "\n",
    "print (\"Самое частое по частоте использования слово \", most_frequent)\n",
    "print (\"Самое редкое по частоте использования слово\", the_rarest)\n",
    "print (\"Меианное по частоте использования\", median)"
   ]
  },
  {
   "cell_type": "code",
   "execution_count": 31,
   "metadata": {},
   "outputs": [],
   "source": [
    "# 3. Определить самое часто используемое существительное, прилагательное и глагол\n",
    "nouns = []\n",
    "verbs = []\n",
    "adjectives = []\n",
    "\n",
    "# Определяю к какому типу относится слово\n",
    "text =  nltk.pos_tag(tokens_without_stop_w)\n",
    "\n",
    "# Разбиваю слова на списки по частям речи \n",
    "for word in text:\n",
    "    if 'NN' == word[1]:\n",
    "        nouns.append(word[0])\n",
    "    if 'VB' == word[1]:\n",
    "        verbs.append(word[0])\n",
    "    if 'JJ' == word[1]:\n",
    "        adjectives.append(word[0])"
   ]
  },
  {
   "cell_type": "code",
   "execution_count": 32,
   "metadata": {},
   "outputs": [
    {
     "name": "stdout",
     "output_type": "stream",
     "text": [
      "Cамое часто используемое существительное prince\n",
      "Cамое часто используемое прилагательное little\n",
      "Cамое часто используемый глагол go\n"
     ]
    }
   ],
   "source": [
    "# Упорядочим слова по убыванию частоты использования\n",
    "NN = FreqDist(nouns)\n",
    "VB = FreqDist(verbs)\n",
    "JJ = FreqDist(adjectives)\n",
    "\n",
    "print(\"Cамое часто используемое существительное\", NN.max())\n",
    "print(\"Cамое часто используемое прилагательное\", JJ.max())\n",
    "print(\"Cамое часто используемый глагол\", VB.max())"
   ]
  },
  {
   "cell_type": "code",
   "execution_count": 33,
   "metadata": {},
   "outputs": [
    {
     "data": {
      "image/png": "[encoded data removed]",
      "text/plain": [
       "<Figure size 640x480 with 1 Axes>"
      ]
     },
     "metadata": {},
     "output_type": "display_data"
    }
   ],
   "source": [
    "#4. Вывести график дисперсии слов из п. 2 и 3\n",
    "text = nltk.Text(tokens_without_stop_w)\n",
    "text.dispersion_plot([VB.max(), JJ.max(), NN.max(), median, the_rarest, most_frequent])"
   ]
  }
 ],
 "metadata": {
  "kernelspec": {
   "display_name": "Python 3.10.7 64-bit",
   "language": "python",
   "name": "python3"
  },
  "language_info": {
   "codemirror_mode": {
    "name": "ipython",
    "version": 3
   },
   "file_extension": ".py",
   "mimetype": "text/x-python",
   "name": "python",
   "nbconvert_exporter": "python",
   "pygments_lexer": "ipython3",
   "version": "3.10.7"
  },
  "orig_nbformat": 4,
  "vscode": {
   "interpreter": {
    "hash": "c5886f9edb4e4191e8bfe3159f96c7d2ee4451326d1088b21e8bb1d9fc114d44"
   }
  }
 },
 "nbformat": 4,
 "nbformat_minor": 2
}
